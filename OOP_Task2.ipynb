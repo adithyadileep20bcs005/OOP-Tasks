{
  "nbformat": 4,
  "nbformat_minor": 0,
  "metadata": {
    "colab": {
      "name": "OOP_Task2.ipynb",
      "provenance": [],
      "collapsed_sections": [],
      "authorship_tag": "ABX9TyP8byw7+MFvy7Fsg2v7rxK5",
      "include_colab_link": true
    },
    "kernelspec": {
      "name": "python3",
      "display_name": "Python 3"
    },
    "language_info": {
      "name": "python"
    }
  },
  "cells": [
    {
      "cell_type": "markdown",
      "metadata": {
        "id": "view-in-github",
        "colab_type": "text"
      },
      "source": [
        "<a href=\"https://colab.research.google.com/github/adithyadileep20bcs005/OOP-Tasks/blob/main/OOP_Task2.ipynb\" target=\"_parent\"><img src=\"https://colab.research.google.com/assets/colab-badge.svg\" alt=\"Open In Colab\"/></a>"
      ]
    },
    {
      "cell_type": "markdown",
      "metadata": {
        "id": "t61NjhCQKdMx"
      },
      "source": [
        "#OOP Task - 2\n",
        "Done by\n",
        "\n",
        "**ADITHYA DILEEP, 20BCS005, IIIT Dharwad**\n"
      ]
    },
    {
      "cell_type": "markdown",
      "metadata": {
        "id": "WZ5mo0njuHR0"
      },
      "source": [
        "1. Create a python class circle, constructed by a radius and two methods that will compute the area and the perimeter of a circle"
      ]
    },
    {
      "cell_type": "code",
      "metadata": {
        "colab": {
          "base_uri": "https://localhost:8080/"
        },
        "id": "9h-C1qSQpY4f",
        "outputId": "eba4f654-aef3-461d-8630-8daa671df56b"
      },
      "source": [
        "from math import pi\n",
        "class circle:\n",
        "  def __init__(self):\n",
        "    self.r = int(input(\"Enter the radius of the circle:\"))\n",
        "  def area(self):\n",
        "    return pi * self.r * self.r\n",
        "  def perimeter(self):\n",
        "    return 2 * pi * self.r\n",
        "C = circle()\n",
        "print(\"area = \", C.area(), \"\\t perimeter = \", C.perimeter())"
      ],
      "execution_count": null,
      "outputs": [
        {
          "output_type": "stream",
          "name": "stdout",
          "text": [
            "Enter the radius of the circle:1\n",
            "area =  3.141592653589793 \t perimeter =  6.283185307179586\n"
          ]
        }
      ]
    },
    {
      "cell_type": "markdown",
      "metadata": {
        "id": "_7qzeuRCx-Nq"
      },
      "source": [
        "2. Write a python program to enter the data of a 5 teaching faculty and display it (Data of a Faculty: Name, Emp ID, Branch, Salary)"
      ]
    },
    {
      "cell_type": "code",
      "metadata": {
        "id": "nxQM5PBax-GE",
        "colab": {
          "base_uri": "https://localhost:8080/"
        },
        "outputId": "a0d1a542-f1d0-4707-b24c-854239dc691a"
      },
      "source": [
        "class Faculty:\n",
        "  def __init__(self, empid):\n",
        "    self.name = input(\"Enter name : \")\n",
        "    self.empid = empid\n",
        "    self.branch = input(\"Enter branch : \")\n",
        "    self.salary = int(input(\"Enter salary : \"))\n",
        "  def display(self):\n",
        "    print(\"\\n Name :\", self.name, \"\\n Employee ID :\", self.empid, \"\\n Branch :\", self.branch, \"\\n Salary :\", self.salary)\n",
        "empids = []\n",
        "for i in range(0,5):\n",
        "  empid = input(\"Enter Employee ID : \")\n",
        "  empid = Faculty(empid)\n",
        "  empids.append(empid)\n",
        "for i in empids:\n",
        "  i.display()"
      ],
      "execution_count": 43,
      "outputs": [
        {
          "output_type": "stream",
          "name": "stdout",
          "text": [
            "Enter Employee ID : 1\n",
            "Enter name : A\n",
            "Enter branch : CSE\n",
            "Enter salary : 100000\n",
            "Enter Employee ID : 2\n",
            "Enter name : B\n",
            "Enter branch : CSE\n",
            "Enter salary : 100000\n",
            "Enter Employee ID : 3\n",
            "Enter name : C\n",
            "Enter branch : ECE\n",
            "Enter salary : 100000\n",
            "Enter Employee ID : 4\n",
            "Enter name : D\n",
            "Enter branch : DSAI\n",
            "Enter salary : 100000\n",
            "Enter Employee ID : 5\n",
            "Enter name : E\n",
            "Enter branch : CSE\n",
            "Enter salary : 100000\n",
            "\n",
            " Name : A \n",
            " Employee ID : 1 \n",
            " Branch : CSE \n",
            " Salary : 100000\n",
            "\n",
            " Name : B \n",
            " Employee ID : 2 \n",
            " Branch : CSE \n",
            " Salary : 100000\n",
            "\n",
            " Name : C \n",
            " Employee ID : 3 \n",
            " Branch : ECE \n",
            " Salary : 100000\n",
            "\n",
            " Name : D \n",
            " Employee ID : 4 \n",
            " Branch : DSAI \n",
            " Salary : 100000\n",
            "\n",
            " Name : E \n",
            " Employee ID : 5 \n",
            " Branch : CSE \n",
            " Salary : 100000\n"
          ]
        }
      ]
    },
    {
      "cell_type": "markdown",
      "metadata": {
        "id": "wC6DFN2tx93-"
      },
      "source": [
        "3. Write a python program to demonstrate the working of the banking system\n",
        " * Create account class with data members (Account No, Account holder name, Amount)\n",
        " * Create constructor to initialize data members\n",
        " * Create member functions (Deposit, withdraw, check balance, and display account details)"
      ]
    },
    {
      "cell_type": "code",
      "metadata": {
        "colab": {
          "base_uri": "https://localhost:8080/"
        },
        "id": "EPdOXnzRzCeH",
        "outputId": "7ff730b8-7df6-4bde-8ce5-0eaddc0b62be"
      },
      "source": [
        "class account:\n",
        "  def __init__(self):\n",
        "    self.accno = 1234\n",
        "    self.name = \"ABC\"\n",
        "    self.amt = 0\n",
        "  def Deposit(self):\n",
        "    print(self.accno)\n",
        "    self.amt = self.amt + int(input(\"Amount to deposit : \"))\n",
        "    print(\"Deposited\")\n",
        "  def Withdraw(self):\n",
        "    a = int(input(\"Amount to withdraw : \"))\n",
        "    if a<=self.amt:\n",
        "      self.amt = self.amt - a\n",
        "      print(\"Withdrawn successfully\")\n",
        "    else:\n",
        "      print(\"Insufficient balance! Withdraw unsuccessful\")\n",
        "  def Check_Balance(self):\n",
        "    print(\"Balance =\",self.amt)\n",
        "  def Account_Details(self):\n",
        "    print(\"Account no. :\", self.accno, \"\\tAccount holder name :\", self.name, \"\\tBalance available :\", self.amt)\n",
        "client = account()\n",
        "def menu():\n",
        "  print(\" 1.Deposit\\t 2.Withdraw\\t 3.Check Balance\\t 4.View Account Details\")\n",
        "  c = int(input(\"Enter your choice :\"))\n",
        "  if c==1:\n",
        "    client.Deposit()\n",
        "  elif c==2:\n",
        "    client.Withdraw()\n",
        "  elif c==3:\n",
        "    client.Check_Balance()\n",
        "  elif c==4:\n",
        "    client.Account_Details()\n",
        "  else:\n",
        "    print(\"Invalid input!\")\n",
        "    menu()\n",
        "  c = int(input(\"Do you want to go to main menu?\\t 1. Yes\\t 2. No\\t Enter your choice : \"))\n",
        "  if c==1:\n",
        "    menu()\n",
        "  elif c==2:\n",
        "    print(\"Thank You\")\n",
        "  else:\n",
        "    print(\"Invalid Choice! Exiting...\")\n",
        "menu()"
      ],
      "execution_count": null,
      "outputs": [
        {
          "output_type": "stream",
          "name": "stdout",
          "text": [
            " 1.Deposit\t 2.Withdraw\t 3.Check Balance\t 4.View Account Details\n",
            "Enter your choice :1\n",
            "1234\n",
            "Amount to deposit : 100\n",
            "Deposited\n",
            "Do you want to go to main menu?\t 1. Yes\t 2. No\t Enter your choice : 1\n",
            " 1.Deposit\t 2.Withdraw\t 3.Check Balance\t 4.View Account Details\n",
            "Enter your choice :4\n",
            "Account no. : 1234 \tAccount holder name : ABC \tBalance available : 100\n",
            "Do you want to go to main menu?\t 1. Yes\t 2. No\t Enter your choice : 2\n",
            "Thank You\n"
          ]
        }
      ]
    },
    {
      "cell_type": "markdown",
      "metadata": {
        "id": "hODdtluDx9az"
      },
      "source": [
        "4. Write a python program to store and display the student name, USN, and marks of a student. Use the list to store the marks of a student in three subjects."
      ]
    },
    {
      "cell_type": "code",
      "metadata": {
        "id": "m2lP3ReLEmpI",
        "colab": {
          "base_uri": "https://localhost:8080/"
        },
        "outputId": "19d2cd5a-1182-42d0-a64d-011740ed5979"
      },
      "source": [
        "class student:\n",
        "  name = \"\"\n",
        "  USN = 0\n",
        "  marks = []\n",
        "  def __init__(self):\n",
        "    self.name = input(\"Enter name : \")\n",
        "    self.USN = input(\"Enter USN : \")\n",
        "    for i in range(1,4):\n",
        "      self.marks.append(int(input(\"Mark \"+ str(i)+ \":\")))\n",
        "  def display(self):\n",
        "    print(\" Name :\", self.name, \"\\tUSN :\", self.USN, \"\\tMarks :\", self.marks)\n",
        "s = student()\n",
        "s.display()"
      ],
      "execution_count": null,
      "outputs": [
        {
          "output_type": "stream",
          "name": "stdout",
          "text": [
            "Enter name : A\n",
            "Enter USN : 1\n",
            "Mark 1:100\n",
            "Mark 2:95\n",
            "Mark 3:90\n",
            " Name : A \tUSN : 1 \tMarks : [100, 95, 90]\n"
          ]
        }
      ]
    },
    {
      "cell_type": "markdown",
      "metadata": {
        "id": "uh8pHOpiL8YN"
      },
      "source": [
        "5. A hospital wants to create a database regarding covid-19 patients. The information to store include:\n",
        "* Name of the patient\n",
        "* Date of admission\n",
        "* List of symptoms\n",
        "* Oxygen level\n",
        "* Date of discharge\n",
        "\n",
        "Note: If the oxygen level is less than 90, then the patient is put on oxygen support else moved to the general ward for observation.\n",
        "\n",
        "Create a class to store the above information. The member function should include a function to enter patient’s information, check the severity, display the number of patients required oxygen support, number of patients in the general ward for observation, and the total number of patients admitted."
      ]
    },
    {
      "cell_type": "code",
      "metadata": {
        "colab": {
          "base_uri": "https://localhost:8080/"
        },
        "id": "r46UCHpjM6rL",
        "outputId": "82c05759-ccf3-476a-978d-2db0be9a686d"
      },
      "source": [
        "\n",
        "class patient:\n",
        "  symptoms = []\n",
        "  severe = 0\n",
        "  n = 0\n",
        "  def symp(self):\n",
        "      patient.symptoms.append(input(\"Enter symptoms : \"))\n",
        "      a = int(input(\"Any more symptoms?\\t 1. Yes\\t 2. No\\t Enter your choice : \"))\n",
        "      if a==1:\n",
        "        self.symp()\n",
        "  def __init__(self):\n",
        "    patient.n = patient.n+1\n",
        "    self.name = input(\"Enter name : \")\n",
        "    self.admdate = input(\"Enter date of admission : \")\n",
        "    self.symp()\n",
        "    self.oxygen = int(input(\"Enter oxygen level : \"))\n",
        "    if self.oxygen < 90:\n",
        "      print(\"Needs oxygen support !\")\n",
        "      patient.severe = patient.severe + 1\n",
        "    else:\n",
        "      print(\"Move to general ward for observation\")\n",
        "    self.disdate = input(\"Enter date of discharge : \")\n",
        "  def display():\n",
        "      print(\" No. of patients required oxygen support :\", patient.severe, \"\\t No. of patients in general ward for observation :\", patient.n-patient.severe, \"\\t Total no. of patients admitted :\",patient.n)\n",
        "p1 = patient()\n",
        "p2 = patient()\n",
        "patient.display()"
      ],
      "execution_count": 44,
      "outputs": [
        {
          "output_type": "stream",
          "name": "stdout",
          "text": [
            "Enter name : A\n",
            "Enter date of admission : 15/09/21\n",
            "Enter symptoms : Cold\n",
            "Any more symptoms?\t 1. Yes\t 2. No\t Enter your choice : 1\n",
            "Enter symptoms : Cough\n",
            "Any more symptoms?\t 1. Yes\t 2. No\t Enter your choice : 2\n",
            "Enter oxygen level : 100\n",
            "Move to general ward for observation\n",
            "Enter date of discharge : 17/09/21\n",
            "Enter name : b\n",
            "Enter date of admission : 16/09/21\n",
            "Enter symptoms : Fever\n",
            "Any more symptoms?\t 1. Yes\t 2. No\t Enter your choice : 2\n",
            "Enter oxygen level : 80\n",
            "Needs oxygen support !\n",
            "Enter date of discharge : 20/09/21\n",
            " No. of patients required oxygen support : 1 \t No. of patients in general ward for observation : 1 \t Total no. of patients admitted : 2\n"
          ]
        }
      ]
    },
    {
      "cell_type": "markdown",
      "metadata": {
        "id": "BnLFZDXUsgH-"
      },
      "source": [
        "6. Create a Class time that has separate int member data for hours, minutes, and seconds. One constructor should initialize this data to 0 and another should initialize it to fixed values. Another member function should display it in hh:mm: ss format."
      ]
    },
    {
      "cell_type": "code",
      "metadata": {
        "id": "EW4CjRc0tjiy",
        "colab": {
          "base_uri": "https://localhost:8080/"
        },
        "outputId": "47b1f84b-28f9-4590-93df-1579b2c88ec8"
      },
      "source": [
        "class time:\n",
        "  def __init__(self):\n",
        "    self.hour = 0\n",
        "    self.minutes = 0\n",
        "    self.seconds = 0\n",
        "  def __init__(self,hh,mm,ss):\n",
        "    self.hh = hh\n",
        "    self.mm = mm\n",
        "    self.ss = ss\n",
        "  def disp(self):\n",
        "    print(self.hh,\":\",self.mm,\":\",self.ss)\n",
        "t1 = time(10,20,30)\n",
        "t2 = time(11,37,00)\n",
        "t1.disp()\n",
        "t2.disp()"
      ],
      "execution_count": null,
      "outputs": [
        {
          "output_type": "stream",
          "name": "stdout",
          "text": [
            "10 : 20 : 30\n",
            "11 : 37 : 0\n"
          ]
        }
      ]
    },
    {
      "cell_type": "markdown",
      "metadata": {
        "id": "Be61InHGspAJ"
      },
      "source": [
        "7. Create a class to store the details of two students:\n",
        "   \n",
        "   std1(Name= Rahul, Age =21, Roll no=33)\n",
        "   \n",
        "   std2( Name = Rohit, Age=22, Roll no = 74)\n",
        "   \n",
        "   Write a function to compare the age of both the students, print whether they are equal or not equal"
      ]
    },
    {
      "cell_type": "code",
      "metadata": {
        "colab": {
          "base_uri": "https://localhost:8080/"
        },
        "id": "dejDnkvU3EYL",
        "outputId": "a2048be4-fcf3-4191-8b11-935842416440"
      },
      "source": [
        "class student:\n",
        "  name = \"\"\n",
        "  age = 0\n",
        "  rollno = 0\n",
        "  def __init__(self, name, age, rno):\n",
        "    self.name = name\n",
        "    self.age = age\n",
        "    self.rollno = rno\n",
        "def cmpage(s1,s2):\n",
        "  if s1.age == s2.age:\n",
        "    print(\"Equal\")\n",
        "  else:\n",
        "    print(\"Not equal\")\n",
        "std1 = student(\"Rahul\", 21, 33)\n",
        "std2 = student(\"Rohit\", 22, 74)\n",
        "cmpage(std1,std2)"
      ],
      "execution_count": null,
      "outputs": [
        {
          "output_type": "stream",
          "name": "stdout",
          "text": [
            "Not equal\n"
          ]
        }
      ]
    },
    {
      "cell_type": "markdown",
      "metadata": {
        "id": "aYRZb7EdtD9f"
      },
      "source": [
        "8. Create an instance of a class to store student details such as Sem, Institute, Name, and usn where:\n",
        "* Sem and Institute details should be class variables\n",
        "* Name and usn should be instance variables.\n",
        "\n",
        "And also, print the instance variable using the instance method and class variable using the class method, also use a static method to print an explanation about the class."
      ]
    },
    {
      "cell_type": "code",
      "metadata": {
        "id": "Bl0VAE0f4r5h"
      },
      "source": [
        ""
      ],
      "execution_count": null,
      "outputs": []
    },
    {
      "cell_type": "markdown",
      "metadata": {
        "id": "7pOCAhd8tVjL"
      },
      "source": [
        "9. Write a python program to create a student class with the variable Name, Roll no, and Sem, also the student is having a laptop create an instance of an inner class laptop with variable cpu, Ram, and hard disk and display details. Also, create multiple objects for the inner class laptop."
      ]
    },
    {
      "cell_type": "code",
      "metadata": {
        "id": "HmUvHWHJ4uqJ",
        "colab": {
          "base_uri": "https://localhost:8080/"
        },
        "outputId": "f47deb13-9232-4c03-c964-5c3b0a4f2a68"
      },
      "source": [
        "class student:\n",
        "  class laptop:\n",
        "    def __init__(self):\n",
        "      self.cpu = input(\"Enter the name of CPU manufacturer : \")\n",
        "      self.ram = int(input(\"Enter the amount of RAM storage(in GB) : \"))\n",
        "      self.hard_disk = int(input(\"Enter the capacity of hard disk(in GB) : \"))\n",
        "    def disp(self):\n",
        "      print(\" Details of Laptop:-\\n Cpu manufacturer :\", self.cpu, \"\\n RAM :\", self.ram, \"\\n Hard Disk capacity :\", self.hard_disk)\n",
        "  def __init__(self):\n",
        "    self.name = input(\"Enter name : \")\n",
        "    self.rno  = input(\"Enter Roll No. : \")\n",
        "    self.sem = input(\"Enter semester : \")\n",
        "  def disp(self):\n",
        "    print(\"\\n Name of the student :\",self.name,\"\\n Roll no. :\",self.rno, \"\\n Semester :\", self.sem)\n",
        "s1 = student()\n",
        "l1 = student.laptop()\n",
        "s2 = student()\n",
        "l2 = student.laptop()\n",
        "s1.disp()\n",
        "l1.disp()\n",
        "s2.disp()\n",
        "l2.disp()"
      ],
      "execution_count": null,
      "outputs": [
        {
          "output_type": "stream",
          "name": "stdout",
          "text": [
            "Enter name : A\n",
            "Enter Roll No. : 1\n",
            "Enter semester : 3\n",
            "Enter the name of CPU manufacturer : intel\n",
            "Enter the amount of RAM storage(in GB) : 16\n",
            "Enter the capacity of hard disk(in GB) : 1500\n",
            "Enter name : B\n",
            "Enter Roll No. : 2\n",
            "Enter semester : 5\n",
            "Enter the name of CPU manufacturer : AMD\n",
            "Enter the amount of RAM storage(in GB) : 16\n",
            "Enter the capacity of hard disk(in GB) : 1000\n",
            "\n",
            " Name of the student : A \n",
            " Roll no. : 1 \n",
            " Semester : 3\n",
            "\n",
            " Details of Laptop:-\n",
            " Cpu manufacturer : intel \n",
            " RAM : 16 \n",
            " Hard Disk capacity : 1500\n",
            "\n",
            " Name of the student : B \n",
            " Roll no. : 2 \n",
            " Semester : 5\n",
            "\n",
            " Details of Laptop:-\n",
            " Cpu manufacturer : AMD \n",
            " RAM : 16 \n",
            " Hard Disk capacity : 1000\n"
          ]
        }
      ]
    }
  ]
}