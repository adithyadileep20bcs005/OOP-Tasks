{
  "nbformat": 4,
  "nbformat_minor": 0,
  "metadata": {
    "colab": {
      "name": "OOP Task3.ipynb",
      "provenance": [],
      "collapsed_sections": [],
      "authorship_tag": "ABX9TyPVU8v6PR79GBmRp6BT8LaV",
      "include_colab_link": true
    },
    "kernelspec": {
      "name": "python3",
      "display_name": "Python 3"
    },
    "language_info": {
      "name": "python"
    }
  },
  "cells": [
    {
      "cell_type": "markdown",
      "metadata": {
        "id": "view-in-github",
        "colab_type": "text"
      },
      "source": [
        "<a href=\"https://colab.research.google.com/github/adithyadileep20bcs005/OOP-Tasks/blob/main/OOP_Task3.ipynb\" target=\"_parent\"><img src=\"https://colab.research.google.com/assets/colab-badge.svg\" alt=\"Open In Colab\"/></a>"
      ]
    },
    {
      "cell_type": "markdown",
      "metadata": {
        "id": "G32B4WhFBIC_"
      },
      "source": [
        "#OOP Task - 3\n",
        "Done by\n",
        "\n",
        "**ADITHYA DILEEP, 20BCS005, IIIT Dharwad**"
      ]
    },
    {
      "cell_type": "markdown",
      "metadata": {
        "id": "35cMKyihu1MP"
      },
      "source": [
        "Problem - I\n",
        "\n",
        "Write a python program to demonstrate the inheritance principle of OOP. Create a Student class that includes student’s basic information : Name, Reg no, Age, Gender, Branch, Sem. Define functions to read and display basic information. Create a new class StudentResultInfo that inherits from Student class. Derived class will include student’s total marks, percentage and grade. Display student’s basic information and result information using derived class."
      ]
    },
    {
      "cell_type": "code",
      "metadata": {
        "colab": {
          "base_uri": "https://localhost:8080/"
        },
        "id": "NekOXXeVoMAH",
        "outputId": "2a66313e-1af6-48db-fdf9-791f840d8964"
      },
      "source": [
        "class Student:\n",
        "  def __init__(self):\n",
        "    self.name = input(\"Enter name : \")\n",
        "    self.regno = int(input(\"Enter registration number : \"))\n",
        "    self.gender = input(\"Gender : \")\n",
        "    self.branch = input(\"Enter your branch : \")\n",
        "    self.sem = input(\"Enter your semester : \")\n",
        "  def dispbasic(self):\n",
        "    print(\"\\n Name :\", self.name, \"\\n Registration Number :\", self.regno, \"\\n Gender :\", self.gender, \"\\n Branch :\", self.branch, \"\\n Semester :\", self.sem)\n",
        "class StudentResultInfo(Student):\n",
        "  def __init__(self):\n",
        "    Student.__init__(self)\n",
        "    self.totmarks = input(\"Enter total marks : \")\n",
        "    self.percent = int(input(\"Enter the percentage : \"))\n",
        "    self.grade = input(\"Enter the grade : \")\n",
        "  def disp(self):\n",
        "    self.dispbasic()\n",
        "    print(\"\\n Total Marks :\", self.totmarks, \"\\n Percentage :\", self.percent, \"\\n Grade :\", self.grade)\n",
        "s = StudentResultInfo()\n",
        "s.disp()"
      ],
      "execution_count": null,
      "outputs": [
        {
          "output_type": "stream",
          "name": "stdout",
          "text": [
            "Enter name : Adithya\n",
            "Enter registration number : 005\n",
            "Gender : Male\n",
            "Enter your branch : CSE\n",
            "enter your semester : 3\n",
            "Enter total marks : 100\n",
            "Enter the percentage : 100\n",
            "Enter the grade : A\n",
            "\n",
            " Name : Adithya \n",
            " Registration Number : 5 \n",
            " Gender : Male \n",
            " Branch : CSE \n",
            " Semester : 3\n",
            "\n",
            " Total Marks : 100 \n",
            " Percentage : 100 \n",
            " Grade : A\n"
          ]
        }
      ]
    },
    {
      "cell_type": "markdown",
      "metadata": {
        "id": "7kucq6RYvF-f"
      },
      "source": [
        "Problem -II\n",
        "\n",
        "Imagine you are writing a Content Management system - this system will store two types of documents:\n",
        "* PDFs (who created, description, file size)\n",
        "* Pictures (who created, description, image dimensions, file size)\n",
        "\n",
        "Imagine you are now asked to add a few features:\n",
        "* Checking to see whether the file size is beyond a certain threshold\n",
        "* Display the details of document\n",
        "* Checking to see whether it's too high of dimension of picture\n",
        "\n",
        "Note: use inheritance concept to reduce length of code"
      ]
    },
    {
      "cell_type": "code",
      "metadata": {
        "colab": {
          "base_uri": "https://localhost:8080/"
        },
        "id": "ZOpmsPiivj9a",
        "outputId": "e8c840a2-388f-4a2f-f515-36470928c8a1"
      },
      "source": [
        "class pdf(features):\n",
        "  def __init__(self):\n",
        "    self.creator = input(\"Enter who created : \")\n",
        "    self.descr = input(\"Enter description : \")\n",
        "    self.size = int(input(\"Enter file size(in KB) = \"))\n",
        "class pic(pdf):\n",
        "  def __init__(self):\n",
        "    pdf.__init__(self)\n",
        "    self.l = int(input(\"Enter image length(in inches) : \"))\n",
        "    self.w = int(input(\"Enter image width(in inches) : \"))\n",
        "class features(pic):\n",
        "  def thresholdsize(self):\n",
        "    if self.size > 10000:\n",
        "      print(\"File size is too large !\")\n",
        "    else:\n",
        "      print(\"File size is within threshold\")\n",
        "  def dispdet(self):\n",
        "    print(\" Created by :\", self.creator, \"\\n Description :\", self.descr, \"\\n File size :\", self.size)\n",
        "    try:\n",
        "      print(\"Image Dimension :\", self.dim)\n",
        "    except:\n",
        "      pass\n",
        "  def thresholddim(self):\n",
        "    if self.l>12 and self.w>18:\n",
        "      print(\"Image Dimension is too high !\")\n",
        "    else:\n",
        "      print(\"Image Dimension is within threshold\")\n",
        "p = pdf()\n",
        "p.thresholdsize()\n",
        "p.dispdet()\n",
        "i = pic()\n",
        "i.thresholdsize()\n",
        "i.dispdet()\n",
        "i.thresholddim()"
      ],
      "execution_count": 10,
      "outputs": [
        {
          "output_type": "stream",
          "name": "stdout",
          "text": [
            "Enter who created : Adithya\n",
            "Enter description : This is a pdf file\n",
            "Enter file size(in KB) = 1000\n",
            "File size is within threshold\n",
            " Created by : Adithya \n",
            " Description : This is a pdf file \n",
            " File size : 1000\n",
            "Enter who created : Adithya\n",
            "Enter description : this is an image\n",
            "Enter file size(in KB) = 50\n",
            "Enter image length(in inches) : 20\n",
            "Enter image width(in inches) : 24\n",
            "File size is within threshold\n",
            " Created by : Adithya \n",
            " Description : this is an image \n",
            " File size : 50\n",
            "Image Dimension is too high !\n"
          ]
        }
      ]
    },
    {
      "cell_type": "markdown",
      "metadata": {
        "id": "NFk23Ahv66qZ"
      },
      "source": [
        "Problem - III\n",
        "\n",
        "Create vehicle class with data members name, mileage and capacity and member function bus fare. Create a Bus child class that inherits from the Vehicle class. The default fare charge of any vehicle is seating capacity * 100. If Vehicle is Bus instance, we need to add an extra 10% on full fare as a maintenance charge. So total fare for bus instance will become the final amount = total fare + 10% of the total fare.\n",
        "\n",
        "Note: The bus seating capacity is 50."
      ]
    },
    {
      "cell_type": "code",
      "metadata": {
        "colab": {
          "base_uri": "https://localhost:8080/"
        },
        "id": "GfsEYbZY7FZ4",
        "outputId": "91af9d33-4866-474c-8297-2a655758a4c8"
      },
      "source": [
        "class Vehicle:\n",
        "  def __init__(self):\n",
        "    self.name = input(\"Enter name : \")\n",
        "    self.mileage = input(\"Enter mileage : \")\n",
        "    self.capacity = int(input(\"Enter seating capacity : \"))\n",
        "  def vehfare(self):\n",
        "    self.fare = self.capacity * 100\n",
        "    print(\"Fare :\",self.fare)\n",
        "class Bus(Vehicle):\n",
        "  def __init__(self):\n",
        "    Vehicle.__init__(self)\n",
        "  def busfare(self):\n",
        "    Vehicle.vehfare(self)\n",
        "    self.maintcharge = self.fare * 10/100\n",
        "    self.totfare = self.fare + self.maintcharge\n",
        "    print(\"Total fare :\", self.totfare)\n",
        "bus1 = Bus()\n",
        "bus1.busfare()\n",
        "auto = Vehicle()\n",
        "auto.vehfare()"
      ],
      "execution_count": 25,
      "outputs": [
        {
          "output_type": "stream",
          "name": "stdout",
          "text": [
            "Enter name : Bus\n",
            "Enter mileage : 10kmpl\n",
            "Enter seating capacity : 50\n",
            "Fare : 5000\n",
            "Total fare : 5500.0\n",
            "Enter name : Auto\n",
            "Enter mileage : 20kmpl\n",
            "Enter seating capacity : 3\n",
            "Fare : 300\n"
          ]
        }
      ]
    }
  ]
}