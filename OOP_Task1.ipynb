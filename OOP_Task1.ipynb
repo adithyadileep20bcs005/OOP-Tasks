{
  "nbformat": 4,
  "nbformat_minor": 0,
  "metadata": {
    "colab": {
      "name": "OOP Task1.ipynb",
      "provenance": [],
      "collapsed_sections": [],
      "authorship_tag": "ABX9TyMTHGOx1uajYV74D8O+RzZF",
      "include_colab_link": true
    },
    "kernelspec": {
      "name": "python3",
      "display_name": "Python 3"
    },
    "language_info": {
      "name": "python"
    }
  },
  "cells": [
    {
      "cell_type": "markdown",
      "metadata": {
        "id": "view-in-github",
        "colab_type": "text"
      },
      "source": [
        "<a href=\"https://colab.research.google.com/github/adithyadileep20bcs005/OOP-Tasks/blob/main/OOP_Task1.ipynb\" target=\"_parent\"><img src=\"https://colab.research.google.com/assets/colab-badge.svg\" alt=\"Open In Colab\"/></a>"
      ]
    },
    {
      "cell_type": "markdown",
      "metadata": {
        "id": "IStiafocz_SJ"
      },
      "source": [
        "#OOP Task - 1\n",
        "Done by\n",
        "\n",
        "**ADITHYA DILEEP, 20 BCS 005, IIIT Dharwad**"
      ]
    },
    {
      "cell_type": "markdown",
      "metadata": {
        "id": "4C_2PlYp2ept"
      },
      "source": [
        "Problem-I\n",
        "\n",
        "An extra day is added to the calendar almost every four years as February 29, and the day is called a leap day. It corrects the calendar for the fact that our planet takes approximately 365.25 days to orbit the sun. A leap year contains a leap day.\n",
        "In the Gregorian calendar, three conditions are used to identify leap years:\n",
        "1. The year can be evenly divided by 4, is a leap year, unless:\n",
        "2. The year can be evenly divided by 100, it is NOT a leap year, unless:\n",
        "3. The year is also evenly divisible by 400. Then it is a leap year.\n",
        "\n",
        "Write function to decide whether it is a leap year. If it is a leap year, return the Boolean True, otherwise return False."
      ]
    },
    {
      "cell_type": "code",
      "metadata": {
        "colab": {
          "base_uri": "https://localhost:8080/"
        },
        "id": "VOoXwZpH3F2G",
        "outputId": "058abb41-3e30-4c69-8c70-7d3a4496e9b3"
      },
      "source": [
        "year=int(input(\"Enter the year to check whether it is a leap year : \"))\n",
        "boolean = (year%4==0) and ((year%400)==0 or (year%100)!=0)\n",
        "print(boolean)\n",
        "if boolean:\n",
        "  print(\"It is a leap year\")\n",
        "else:\n",
        "  print(\"It is not a leap year\")"
      ],
      "execution_count": 20,
      "outputs": [
        {
          "output_type": "stream",
          "name": "stdout",
          "text": [
            "Enter the year to check whether it is a leap year : 2016\n",
            "True\n",
            "It is a leap year\n"
          ]
        }
      ]
    },
    {
      "cell_type": "markdown",
      "metadata": {
        "id": "Io8_xIH12WKx"
      },
      "source": [
        "Problem-II\n",
        "\n",
        "Given an integer ‘n’, write a python code to perform the following conditional actions:\n",
        "1. If ‘n’ is odd, print Weird\n",
        "2. If ‘n’ is even and in the inclusive range of 2 to 5, print Not Weird\n",
        "3. If ‘n’ is even and in the inclusive range of 6 to 20, print Weird\n",
        "4. If ‘n’ is even and greater than 20, print Not Weird"
      ]
    },
    {
      "cell_type": "code",
      "metadata": {
        "colab": {
          "base_uri": "https://localhost:8080/"
        },
        "id": "jJAVWJk055vX",
        "outputId": "b5829a43-914b-427b-e3b6-8bd1d27e298c"
      },
      "source": [
        "n = int(input(\"Enter positive integer :\"))\n",
        "if n%2==1:\n",
        "  print(\"Weird\")\n",
        "elif n%2==0:\n",
        "  if n in range(2,6):\n",
        "    print(\"Not Weird\")\n",
        "  elif n in range(6,21):\n",
        "    print(\"Weird\")\n",
        "  elif n>20:\n",
        "    print(\"Not Weird\")\n",
        "  else:\n",
        "    print(\"Invalid input!\")"
      ],
      "execution_count": 22,
      "outputs": [
        {
          "output_type": "stream",
          "name": "stdout",
          "text": [
            "Enter positive integer :12\n",
            "Weird\n"
          ]
        }
      ]
    },
    {
      "cell_type": "markdown",
      "metadata": {
        "id": "nh3b_Hwj5t2b"
      },
      "source": [
        "Problem-III\n",
        "\n",
        "The following list represents a party with 7 guests, in which ‘Hardik’ showed up first and ‘Rahane’ was the last to arrive:\n",
        "\n",
        "Arrivals = [‘Hardik’, ‘Rahul’, ‘Virat’, ‘Rishabh’, ‘Mahi’, ‘Rohit’, ‘Rahane’]\n",
        "\n",
        "A guest is considered ‘fashionably late’ if they arrived after at least half of the party’s guests. However, they must not be the very last guest (that’s taking it too far). In the above example, ‘rishabh’, ‘Mahi’ and ‘Rohit’ are the only guests who were fashionably late.\n",
        "\n",
        "Write the function which takes a list of party attendees as well as a person, and tells us whether that person is fashionably late."
      ]
    },
    {
      "cell_type": "code",
      "metadata": {
        "colab": {
          "base_uri": "https://localhost:8080/"
        },
        "id": "OhDQKEqFUhbs",
        "outputId": "059f3ee0-0348-4131-bb26-18dd13eccb5e"
      },
      "source": [
        "n = int(input(\"Enter the number of guests :\"))\n",
        "Arrival = []\n",
        "for i in range(0,n):\n",
        "  name = input(\"Enter the name of guest\")\n",
        "  Arrival.append(name)\n",
        "print(\"Fashionable Late Guests : \")\n",
        "for i in range(int(n/2),n-1):\n",
        "  print(Arrival[i])"
      ],
      "execution_count": 24,
      "outputs": [
        {
          "output_type": "stream",
          "name": "stdout",
          "text": [
            "Enter the number of guests :7\n",
            "Enter the name of guestA\n",
            "Enter the name of guestB\n",
            "Enter the name of guestC\n",
            "Enter the name of guestD\n",
            "Enter the name of guestE\n",
            "Enter the name of guestF\n",
            "Enter the name of guestG\n",
            "Fashionable Late Guests : \n",
            "D\n",
            "E\n",
            "F\n"
          ]
        }
      ]
    },
    {
      "cell_type": "markdown",
      "metadata": {
        "id": "FSPgal7JT6f-"
      },
      "source": [
        "Problem-IV\n",
        "\n",
        "A researcher has gathered thousands of news articles. But she wants to focus her attention on articles including a specific word. Write a function to help her filter her list of articles.\n",
        "\n",
        "Your function should meet the following criteria:\n",
        "1. Do not include documents where the keyword string shows up only as a part of a larger\n",
        "word. For example, if she were looking for the keyword “closed”, you would not include the string “enclosed.”\n",
        "2. She does not want you to distinguish upper case from lower case letters. So the phrase “Closed the case.” would be included when the keyword is “closed”\n",
        "3. Do not let periods or commas affect what is matched. “It is closed.” would be included when the keyword is “closed”. But you can assume there are no other types of punctuation.\n",
        "\n",
        "Assume, doc_list = [\"The Learn Python Challenge Rohit\", \"They bought a car\", \"bangalore\"]"
      ]
    },
    {
      "cell_type": "code",
      "metadata": {
        "colab": {
          "base_uri": "https://localhost:8080/"
        },
        "id": "EydkVdbhbBqg",
        "outputId": "d3e96a7d-6843-4f6c-9668-62fdb391ff84"
      },
      "source": [
        "doc_list = [\"The Learn Python Challenge Rohit.\", \"They bought a car\", \"bangalore\"]\n",
        "key = input(\"Enter the keyword to search :\")\n",
        "key = key.strip('.,').lower()\n",
        "found = []\n",
        "for doc in doc_list:\n",
        "  words = doc.split()\n",
        "  for i,word in enumerate(words):\n",
        "    if key == word.strip('.,').lower():\n",
        "      found.append((i+1,doc))\n",
        "if len(found):\n",
        "  print(\"Keyword found as (position of word, name of document):\",found)\n",
        "else:\n",
        "  print(\"Not Found !\")"
      ],
      "execution_count": 10,
      "outputs": [
        {
          "output_type": "stream",
          "name": "stdout",
          "text": [
            "Enter the keyword to search :learn\n",
            "Keyword found as (position of word, name of document): [(2, 'The Learn Python Challenge Rohit.')]\n"
          ]
        }
      ]
    },
    {
      "cell_type": "markdown",
      "metadata": {
        "id": "YLhYJftUapeo"
      },
      "source": [
        "Problem-V\n",
        "\n",
        "An Employee’s Basic Pay (BP) is to be read from user. DA is 40% of BP, HRA is 20% of BP, and write a function to calculate the Gross Pay (GP) GP is computed as BP + DA + HRA."
      ]
    },
    {
      "cell_type": "code",
      "metadata": {
        "colab": {
          "base_uri": "https://localhost:8080/"
        },
        "id": "lC4Zu3B-Yphu",
        "outputId": "4fcf6957-6294-4b3c-dbf1-7f9746ad9bae"
      },
      "source": [
        "bp = int(input(\"Enter Basic Pay :\"))\n",
        "da = bp * 0.4\n",
        "hra = bp * 0.2\n",
        "gp = bp + da + hra\n",
        "print(\"BP=\",bp,\", DA=\",da,\", HRA=\",hra,\", Gross Pay (GP) =\",gp)"
      ],
      "execution_count": 11,
      "outputs": [
        {
          "output_type": "stream",
          "name": "stdout",
          "text": [
            "Enter Basic Pay :15600\n",
            "BP= 15600 , DA= 6240.0 , HRA= 3120.0 , Gross Pay (GP) = 24960.0\n"
          ]
        }
      ]
    }
  ]
}