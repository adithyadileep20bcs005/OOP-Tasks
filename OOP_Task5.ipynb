{
  "nbformat": 4,
  "nbformat_minor": 0,
  "metadata": {
    "colab": {
      "name": "OOP Task5.ipynb",
      "provenance": [],
      "collapsed_sections": [],
      "authorship_tag": "ABX9TyPt5Shc7OVOBu3e2I5ILq2G",
      "include_colab_link": true
    },
    "kernelspec": {
      "display_name": "Python 3",
      "name": "python3"
    },
    "language_info": {
      "name": "python"
    }
  },
  "cells": [
    {
      "cell_type": "markdown",
      "metadata": {
        "id": "view-in-github",
        "colab_type": "text"
      },
      "source": [
        "<a href=\"https://colab.research.google.com/github/adithyadileep20bcs005/OOP-Tasks/blob/main/OOP_Task5.ipynb\" target=\"_parent\"><img src=\"https://colab.research.google.com/assets/colab-badge.svg\" alt=\"Open In Colab\"/></a>"
      ]
    },
    {
      "cell_type": "markdown",
      "metadata": {
        "id": "5xv1HMwR7OJU"
      },
      "source": [
        "#OOP Task - 5\n",
        "Done by\n",
        "\n",
        "**ADITHYA DILEEP, 20BCS005, IIIT Dharwad**"
      ]
    },
    {
      "cell_type": "markdown",
      "metadata": {
        "id": "XQzCchXg7RPt"
      },
      "source": [
        "Problem - I\n",
        "\n",
        "Write a Python programme to create the parent class shape, derive the subclasses circle, square, and rectangle from the class shape, and demonstrate polymorphism in inheritance using a member function area()"
      ]
    },
    {
      "cell_type": "code",
      "metadata": {
        "id": "W3umBpzI7I_n",
        "colab": {
          "base_uri": "https://localhost:8080/"
        },
        "outputId": "42a93ab6-c6eb-43cb-8110-50f15696d2b9"
      },
      "source": [
        "from math import pi\n",
        "class shape:\n",
        "  def __init__(self, name):\n",
        "    self.name = name\n",
        "  def area(self):\n",
        "    print(\" From parent class shape\")\n",
        "class circle(shape):\n",
        "  def __init__(self):\n",
        "    shape.__init__(self, \"Circle\")\n",
        "    self.r = int(input(\" Enter radius :\"))\n",
        "  def area(self):\n",
        "    self.Area = pi * self.r * self.r\n",
        "  def getarea(self):\n",
        "    self.area()\n",
        "    print(\" Area of\", self.name, \"with radius\", self.r, \"is\", self.Area)\n",
        "class square(shape):\n",
        "  def __init__(self):\n",
        "    shape.__init__(self, \"Square\")\n",
        "    self.a = int(input(\" Enter side :\"))\n",
        "  def area(self):\n",
        "    self.Area = self.a * self.a\n",
        "  def getarea(self):\n",
        "    self.area()\n",
        "    print(\" Area of\", self.name, \"with side\", self.a, \"is\", self.Area)\n",
        "class rectangle(shape):\n",
        "  def __init__(self):\n",
        "    shape.__init__(self, \"Rectangle\")\n",
        "    self.length = int(input(\" Enter length :\"))\n",
        "    self.breadth = int(input(\" Enter breadth :\"))\n",
        "  def area(self):\n",
        "    self.Area = self.length * self.breadth\n",
        "  def getarea(self):\n",
        "    self.area()\n",
        "    print(\" Area of\", self.name, \"with length\", self.length, \"and breadth\", self.breadth, \"is\", self.Area)\n",
        "c = circle()\n",
        "s = square()\n",
        "r = rectangle()\n",
        "c.getarea()\n",
        "s.getarea()\n",
        "r.getarea()"
      ],
      "execution_count": 29,
      "outputs": [
        {
          "output_type": "stream",
          "name": "stdout",
          "text": [
            " Enter radius :3\n",
            " Enter side :3\n",
            " Enter length :3\n",
            " Enter breadth :5\n",
            " Area of Circle with radius 3 is 28.274333882308138\n",
            " Area of Square with side 3 is 9\n",
            " Area of Rectangle with length 3 and breadth 5 is 15\n"
          ]
        }
      ]
    },
    {
      "cell_type": "markdown",
      "metadata": {
        "id": "lcmPXjGnJnVB"
      },
      "source": [
        "Problem - II\n",
        "\n",
        "The family has decided to travel by road from Dharwad to Belagavi, and they have\n",
        "chosen to estimate the cost before starting on this journey. Write python code to create the parent class Travel with member functions to include the number of passengers, the distance travelled, and the mode of transportation. Derive two subclasses, train and bus, from the parent class, each with a member function that calculates the cost of trip. Also, keep the numbers of passengers as a private member of the parent class and try to access it through the child class to estimate costs.\n",
        "\n",
        "Note: Assume cost of travelling/person through train = Rs.60 , cost of travelling/person through bus= Rs.100"
      ]
    },
    {
      "cell_type": "code",
      "metadata": {
        "colab": {
          "base_uri": "https://localhost:8080/"
        },
        "id": "ceMJPyP9-3SY",
        "outputId": "9ed8563e-de71-44f5-88dd-cd954446b3b2"
      },
      "source": [
        "class Travel:\n",
        "  mode = \"\"\n",
        "  def __init__(self, mode):\n",
        "    self.__passengers = int(input(\" Number of passengers : \"))\n",
        "    self.distance = int(input(\" Distance travelled : \"))\n",
        "    self.mode = mode\n",
        "  def getpassenger(self):\n",
        "    return self.__passengers\n",
        "class train(Travel):\n",
        "  cost = 60\n",
        "  def __init__(self):\n",
        "    print(\" TRAIN\")\n",
        "    Travel.__init__(self, \"Train\")\n",
        "  def Cost(self):\n",
        "    return self.cost * self.getpassenger()\n",
        "class bus(Travel):\n",
        "  cost = 100\n",
        "  def __init__(self):\n",
        "    print(\" BUS\")\n",
        "    Travel.__init__(self, \"Bus\")\n",
        "  def Cost(self):\n",
        "    return self.cost * self.getpassenger()\n",
        "t = train()\n",
        "tcost = t.Cost()\n",
        "print(\" Cost by train =\", tcost)\n",
        "b = bus()\n",
        "bcost = b.Cost()\n",
        "print(\" Cost by bus =\", bcost)"
      ],
      "execution_count": 30,
      "outputs": [
        {
          "output_type": "stream",
          "name": "stdout",
          "text": [
            " TRAIN\n",
            " Number of passengers : 3\n",
            " Distance travelled : 350\n",
            " Cost by train = 180\n",
            " BUS\n",
            " Number of passengers : 3\n",
            " Distance travelled : 200\n",
            " Cost by bus = 300\n"
          ]
        }
      ]
    },
    {
      "cell_type": "markdown",
      "metadata": {
        "id": "QyqwLLkIJrsf"
      },
      "source": [
        "Problem - III\n",
        "\n",
        "Assume that there is a class Car with model number as its member variable. Write a python program to swap the values of model number in Car objects c1 and c2"
      ]
    },
    {
      "cell_type": "code",
      "metadata": {
        "colab": {
          "base_uri": "https://localhost:8080/"
        },
        "id": "PJwet88SHHdT",
        "outputId": "be06d319-9153-4db5-b056-d13be6cedd25"
      },
      "source": [
        "class Car:\n",
        "  def __init__(self):\n",
        "    self.model = int(input(\" Enter model number of car :\"))\n",
        "  def getmodel(self):\n",
        "    return model\n",
        "def swapmodel(a, b):\n",
        "  a.model, b.model = b.model, a.model\n",
        "c1 = Car()\n",
        "c2 = Car()\n",
        "print(\" Model of c1 before swapping =\", c1.model)\n",
        "print(\" Model of c2 before swapping =\", c2.model)\n",
        "swapmodel(c1, c2)\n",
        "print(\" Model of c1 after swapping =\", c1.model)\n",
        "print(\" Model of c2 after swapping =\", c2.model)"
      ],
      "execution_count": 34,
      "outputs": [
        {
          "output_type": "stream",
          "name": "stdout",
          "text": [
            " Enter model number of car :2015\n",
            " Enter model number of car :2006\n",
            " Model of c1 before swapping = 2015\n",
            " Model of c2 before swapping = 2006\n",
            " Model of c1 after swapping = 2006\n",
            " Model of c2 after swapping = 2015\n"
          ]
        }
      ]
    }
  ]
}