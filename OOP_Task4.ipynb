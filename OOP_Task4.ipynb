{
  "nbformat": 4,
  "nbformat_minor": 0,
  "metadata": {
    "colab": {
      "name": "OOP Task4.ipynb",
      "provenance": [],
      "collapsed_sections": [],
      "authorship_tag": "ABX9TyPCsRZHHJyXYrCAg/AU4C40",
      "include_colab_link": true
    },
    "kernelspec": {
      "name": "python3",
      "display_name": "Python 3"
    },
    "language_info": {
      "name": "python"
    }
  },
  "cells": [
    {
      "cell_type": "markdown",
      "metadata": {
        "id": "view-in-github",
        "colab_type": "text"
      },
      "source": [
        "<a href=\"https://colab.research.google.com/github/adithyadileep20bcs005/OOP-Tasks/blob/main/OOP_Task4.ipynb\" target=\"_parent\"><img src=\"https://colab.research.google.com/assets/colab-badge.svg\" alt=\"Open In Colab\"/></a>"
      ]
    },
    {
      "cell_type": "markdown",
      "metadata": {
        "id": "thHACqDFW-4d"
      },
      "source": [
        "#OOP Task - 4\n",
        "Done by\n",
        "\n",
        "**ADITHYA DILEEP, 20BCS005, IIIT Dharwad**"
      ]
    },
    {
      "cell_type": "markdown",
      "metadata": {
        "id": "pnQDZ0RryUrW"
      },
      "source": [
        "Problem - I\n",
        "\n",
        "Write a python code to create a class node with data and address of next node as parameters. Derive stack class from node class with top position or head  node position as a parameter and also perform the following operations:\n",
        "1. Check whether stack is empty\n",
        "2. Add data to the stack\n",
        "3. Delete data from the stack\n",
        "4. Display the elements of the stack\n",
        "5. Deallocate the memory assigned to each node using destructors"
      ]
    },
    {
      "cell_type": "code",
      "metadata": {
        "colab": {
          "base_uri": "https://localhost:8080/"
        },
        "id": "qphwBgKsxqsa",
        "outputId": "4f7198d7-c593-4d23-cdd7-1b75039fca21"
      },
      "source": [
        "class node:\n",
        "  def __init__(self, data):\n",
        "    self.data = data\n",
        "    self.next = None\n",
        "class stack(node):\n",
        "  def __init__(self):\n",
        "    self.top = None\n",
        "  def checkempty(self):\n",
        "    if self.top == None:\n",
        "      print(\" Stack is Empty !\")\n",
        "    else:\n",
        "      print(\" Stack is not empty\")\n",
        "  def push(self, data):\n",
        "    if self.top == None:\n",
        "      self.top = node(data)\n",
        "    else:\n",
        "      newnode = node(data)\n",
        "      newnode.next = self.top\n",
        "      self.top = newnode\n",
        "    print(\" Pushed\", data)\n",
        "  def pop(self):\n",
        "    if self.top == None:\n",
        "      print(\" Stack Empty !\")\n",
        "    else:\n",
        "      print(\"Popping '\", self.top.data, \"' ...\" )\n",
        "      nodetopop = self.top\n",
        "      self.top = nodetopop.next\n",
        "      del nodetopop\n",
        "  def display(self):\n",
        "    if self.top == None:\n",
        "      print(\" Stack Empty !\")\n",
        "    else:\n",
        "      temp = self.top\n",
        "      while temp != None:\n",
        "        print(temp.data, \"->\")\n",
        "        temp = temp.next\n",
        "  def __del__(self):\n",
        "    print(\" Memory assigned to each node in the stack deallocated using destructor\")\n",
        "S = stack()\n",
        "S.checkempty()\n",
        "S.push(10)\n",
        "S.push(20)\n",
        "S.push(30)\n",
        "S.display()\n",
        "S.checkempty()\n",
        "S.pop()\n",
        "S.display()\n",
        "del S\n",
        "# S.display   #Gives error, so deallocated"
      ],
      "execution_count": 9,
      "outputs": [
        {
          "output_type": "stream",
          "name": "stdout",
          "text": [
            " Stack is Empty !\n",
            " Pushed 10\n",
            " Pushed 20\n",
            " Pushed 30\n",
            "30 ->\n",
            "20 ->\n",
            "10 ->\n",
            " Stack is not empty\n",
            "Popping ' 30 ' ...\n",
            "20 ->\n",
            "10 ->\n",
            " Memory assigned to each node in the stack deallocated using destructor\n"
          ]
        }
      ]
    },
    {
      "cell_type": "markdown",
      "metadata": {
        "id": "vLa9Tp-FaJhL"
      },
      "source": [
        "Problem - II\n",
        "\n",
        "Write a python code to calculate the area of a rectangle using parametrized and default constructors"
      ]
    },
    {
      "cell_type": "code",
      "metadata": {
        "colab": {
          "base_uri": "https://localhost:8080/"
        },
        "id": "52s12ExmyqWa",
        "outputId": "fa4cf476-9407-4507-ea7a-ebe401701c4d"
      },
      "source": [
        "class parameterized:\n",
        "  def __init__(self, l, b):\n",
        "    self.l = l\n",
        "    self.b = b\n",
        "    print(self.l * self.b)\n",
        "class default:\n",
        "  length = 5\n",
        "  breadth = 2\n",
        "  def __init__(self):\n",
        "    print(self.length * self.breadth)\n",
        "print(\" Area of rectangle with length 6 and breadth 4 using parameterized constructor is\")\n",
        "parameterized(6,4)\n",
        "print(\" Area of rectangle with length\", default.length, \"and breadth\", default.breadth, \"using parameterized constructor is\")\n",
        "default()"
      ],
      "execution_count": 21,
      "outputs": [
        {
          "output_type": "stream",
          "name": "stdout",
          "text": [
            " Area of rectangle with length 6 and breadth 4 using parameterized constructor is\n",
            "24\n",
            " Area of rectangle with length 5 and breadth 2 using parameterized constructor is\n",
            "10\n"
          ]
        },
        {
          "output_type": "execute_result",
          "data": {
            "text/plain": [
              "<__main__.default at 0x7ff7082eb350>"
            ]
          },
          "metadata": {},
          "execution_count": 21
        }
      ]
    },
    {
      "cell_type": "markdown",
      "metadata": {
        "id": "Mc0QUqf3aT2K"
      },
      "source": [
        "Problem - III\n",
        "\n",
        "Write a python program to implement queue operations using constructors and destructors\n",
        "\n",
        "*Note: Destructors are used to deallocate the memory assigned to each node*"
      ]
    },
    {
      "cell_type": "code",
      "metadata": {
        "colab": {
          "base_uri": "https://localhost:8080/"
        },
        "id": "tRhy9Iav_Bi3",
        "outputId": "20a8c525-1426-4b0d-8c00-c9b3f0deacc4"
      },
      "source": [
        "class node:\n",
        "  def __init__(self, data):\n",
        "    self.data = data\n",
        "    self.next = None\n",
        "class Queue(node):\n",
        "  def __init__(self):\n",
        "    self.front = None\n",
        "    self.rear = None\n",
        "  def enqueue(self, data):\n",
        "    if self.front == None:\n",
        "      self.front = self.rear = node(data)\n",
        "    else:\n",
        "      newnode = node(data)\n",
        "      self.rear.next = newnode\n",
        "      self.rear = newnode\n",
        "  def dequeue(self):\n",
        "    if self.front == None:\n",
        "      print(\" Queue Empty !\")\n",
        "    else:\n",
        "      queuetodelete = self.front\n",
        "      self.front = queuetodelete.next\n",
        "      print(\" Dequeuing\", queuetodelete.data, \"...\")\n",
        "      del queuetodelete\n",
        "  def display(self):\n",
        "    if self.front == None:\n",
        "      print(\" Queue Empty !\")\n",
        "    else:\n",
        "      temp = self.front\n",
        "      while temp != None:\n",
        "        print(temp.data, \"->\")\n",
        "        temp = temp.next\n",
        "  def checkempty(self):\n",
        "    if self.front == None:\n",
        "      print(\" Queue is Empty !\")\n",
        "    else:\n",
        "      print(\" Queue is not empty\")\n",
        "  def __del__(self):\n",
        "    print(\" Memory assigned to each node in the queue deallocated using destructor\")\n",
        "\n",
        "Q = Queue()\n",
        "Q.checkempty()\n",
        "Q.enqueue(10)\n",
        "Q.enqueue(20)\n",
        "Q.enqueue(30)\n",
        "Q.display()\n",
        "Q.checkempty()\n",
        "Q.dequeue()\n",
        "Q.display()\n",
        "del Q\n",
        "# Q.display   #Gives error, so deallocated"
      ],
      "execution_count": 27,
      "outputs": [
        {
          "output_type": "stream",
          "name": "stdout",
          "text": [
            " Queue is Empty !\n",
            "10 ->\n",
            "20 ->\n",
            "30 ->\n",
            " Queue is not empty\n",
            " Dequeuing 10 ...\n",
            "20 ->\n",
            "30 ->\n",
            " Memory assigned to each node in the queue deallocated using destructor\n"
          ]
        }
      ]
    }
  ]
}